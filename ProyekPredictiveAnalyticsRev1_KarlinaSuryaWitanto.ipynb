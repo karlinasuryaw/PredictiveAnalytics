{
 "cells": [
  {
   "cell_type": "markdown",
   "metadata": {
    "id": "_iQ0dSDT1dl8"
   },
   "source": [
    "# **BELAJAR MACHINE LEARNING TERAPAN : PROYEK PREDICTIVE ANALYTICS**"
   ]
  },
  {
   "cell_type": "markdown",
   "metadata": {
    "id": "gukIWh5949cj"
   },
   "source": [
    "# **DATA DIRI**\n",
    "\n",
    "* Nama      : Karlina Surya Witanto\n",
    "* ID        : M014V6051\n",
    "* PT        : Universitas Udayana\n",
    "* Email     : gabriella.linatan@gmail.com"
   ]
  },
  {
   "cell_type": "markdown",
   "metadata": {},
   "source": [
    "## Domain Proyek\n",
    "\n",
    "Domain yang dieksplorasi dalam proyek kali ini adalah finance atau finansial. Secara spesifik fokus finansial pada\n",
    "proyek ini adalah berkaitan dengan pergerakan harga saham, dalam kasus ini kita menggunakan saham dari perusahaan tesla (TSLA) yang\n",
    "dapat ditemukan di [nasdaq - TSLA](https://www.nasdaq.com/market-activity/stocks/tsla/historical).\n",
    "Banyaknya permintaan dari para pedagang atau trader saham yang membutuhkan informasi mengenai ramalan dari harga saham di masa depan.\n",
    "Jadi disinilah sebuah metode yaitu prediksi harga saham dilakukan. Metode ini merupakan sebuah cara untuk menentukan/meramal nilai\n",
    "saham dari sebuah perusahaan di masa depan, prediksi yang mendekati 100% dapat memberikan profit yang sangat besar.\n",
    "\n",
    "Domain spesifik ini dapat dicapai dengan cara menggunakan analisis teknikal menggunakan informasi dari perusahaan itu sendiri\n",
    "serta melibatkan intuisi dalam meramalnya, tetapi metode yang lebih tepat adalah menggunakan perantara machine learning atau\n",
    "pembelajaran mesin yang dapat melakukan prediksi harga saham dengan tingkat akurasi yang sangat tinggi.\n",
    "\n",
    "Hal tersebut terbukti dari banyaknya penelitian yang membuktikan kemampuan machine learning dalam memprediksi harga saham, diantaranya:\n",
    "- [Reddy et al.](https://www.academia.edu/download/57764282/IRJET-V5I10193.pdf)\n",
    "- [Sharma et al.](https://ieeexplore.ieee.org/abstract/document/8212715/)\n",
    "- Lebih spesifik ada yang menggunakan deep learning yaitu [Selvin et al.](https://www.sciencedirect.com/science/article/pii/S1877050920304865)"
   ]
  },
  {
   "cell_type": "markdown",
   "metadata": {},
   "source": [
    "## Business Understanding\n",
    "\n",
    "Masalah yang paling sering di hadapi para trader adalah dalam jual beli saham merupakan ketidakpastian dari pergerakan saham di masa depan.\n",
    "Perusahaan yang memberitahukan nilai dari harga sahamnya juga tergantung dari image dan pemasarannya itu seperti apa itu sifatnya sangat\n",
    "dinamis. Mekanisme dari penentuan harga saham berdasarkan harga yang disetujui dari pembeli dan penjual. Jika pembeli lebih banyak daripada\n",
    "penjual maka harga dari sebuah saham akan naik, sebaliknya harganya bisa turun.\n",
    "\n",
    "Dengan menggunakan pendekatan machine learning yang dilatih menggunakan data historical dari harga saham suatu perusahaan dalam hal kasus\n",
    "ini adalah tesla (TSLA) akan membantu dalam proses pemerolehan informasi berdasarkan prediksinya apakah dimasa yang akan datang sebagai\n",
    "contoh 7 hari kedepan itu ditiap harinya pergerakan saham akan naik, turun atau tetap."
   ]
  },
  {
   "cell_type": "markdown",
   "metadata": {},
   "source": [
    "### Problem Statements\n",
    "- Apakah machine learning dapat diimplementasikan untuk memprediksi harga saham?\n",
    "- Bagaimana performa dari perbanding 3 model machine learning yaitu LSTM, Linear Regression dan Support Vectore Regression\n",
    "dalam memprediksi harga saham?\n",
    "\n",
    "### Goals\n",
    "- Dapat mengimplementasikan model machine learning yang dilatih menggunakan data lampau serta memprediksi harga saham.\n",
    "- Mengevaluasi performa dari machine learning dan membandingkannya satu sama lain menggunakan metrik evaluasi regresi.\n",
    "\n",
    "### Solution statements\n",
    "Dalam kasus ini kita memiliki 3 model yang berbeda, dari yang sederhana sampai kompleks, diantaranya:\n",
    "- **Linear Regression**. Model ini merupakan algoritma yang melakukan pemodelan dari hubungan dua variabel dengan proses fitting \n",
    "equasi linear terhadap data yang diobservasi. Model ini digunakan untuk memprediksi nilai suatu variable berdasarkan nilai dari variable\n",
    "lainnya. Nilai yang diprediksi merupakan variabel yang dependen, sedangkan nilai variable yang digunakan untuk memprediksi merupakan \n",
    "variabel independen. \n",
    "- **Support Vector Regression**. Mekanisme dari SVR ini yaitu dengan mencari garis fit terbaik atau sebuah hyperplane yang dianggap\n",
    "paling optimal dalam memprediksi nilai-nilai dari data kontinu dengan memetakan data yang terurut dengan pemisahan data berdasarkan\n",
    "margin (hyperplane) terbaik.\n",
    "- **Long Short-Term Memory**. Model ini berbasis jaringan syaraf tiruan dan varian dari recurrent neural network (RNN).\n",
    "yang berkemampuan untuk mempelajari urutan kebergantungan dari sebuah data sekuensial\n",
    "- Mengevaluasi performa dari machine learning dan membandingkannya satu sama lain menggunakan metrik evaluasi regresi."
   ]
  },
  {
   "cell_type": "markdown",
   "metadata": {
    "id": "me3O_P1EYBal"
   },
   "source": [
    "## Data Understanding\n",
    "Di bidang finansial, data pasar adalah harga dan data terkait lainnya untuk instrumen keuangan yang dilaporkan oleh tempat perdagangan seperti bursa saham. \n",
    "Data pasar memungkinkan pedagang dan investor mengetahui harga terbaru dan melihat tren historis untuk instrumen seperti ekuitas, produk pendapatan tetap, \n",
    "derivatif, dan mata uang. Seperti dalam kasus ini kita menggunkan [Dataset Tesla](https://www.nasdaq.com/market-activity/stocks/tsla/historical).\n",
    "yang memiliki rentang waktu 5 tahun yaitu dari 2016 hingga 2021. Data tersebut berisi informasi harga saham dari perusahaan tesla dari rentang tahun tersebut\n",
    "dan kita menemukan kenaikan yang signifikan dari saham tersebut sejak tahun 2016. Jumlah data total yaitu 1259 baris dengan atribut atau indikator saham \n",
    "yang memiliki penanggalan berdasarkan harinya. \n",
    "\n",
    "Selanjutnya, data lampau dari harga saham ini terdiri dari beberapa variabel sebagai berikut:\n",
    "- Date : merupakan sebuah variabel yang berisi data tentang tanggal dari harga spesifik suatu saham.\n",
    "- Close : merupakan harga terakhir di mana sekuritas diperdagangkan selama hari perdagangan reguler.\n",
    "- Volume : Volume dihitung sebagai jumlah total saham yang benar-benar diperdagangkan (dibeli dan dijual) selama hari perdagangan atau \n",
    "periode waktu yang ditentukan.\n",
    "- Open : merupakan harga di mana saham mulai diperdagangkan saat bel pembukaan berbunyi. \n",
    "Bisa sama seperti dimana stock tutup malam sebelumnya.\n",
    "- High : merupakan harga tertinggi di mana suatu saham diperdagangkan selama suatu periode.\n",
    "- Low : merupakan harga terendah di mana suatu saham diperdagangkan selama suatu periode.\n",
    "\n",
    "Dari kondisi data tersebut kita melakukan perbaikan dalam format penanggalannya. Data tersebut dilakukan proses Exploratory Data Analysis untuk menganalisis \n",
    "pergerakan saham dari tahun 2016 hingga tahun 2020 menggunakan library matplotlib. Pengaturan format penanggalan yaitu kolom Data harus sesuai dengan tipe \n",
    "data date dengan format tanggal yang bisa digunakan untuk plot data dan sebagai index dari data rangkaian waktu tersebut. Mengurutkan data awal ke akhir dari \n",
    "paling lampau sampai paling terkini agar terurut dengan benar index harga dari saham tersebut."
   ]
  },
  {
   "cell_type": "markdown",
   "metadata": {
    "id": "dwtHLVCCZFDJ"
   },
   "source": [
    "# Prediksi Harga Saham TSLA"
   ]
  },
  {
   "cell_type": "markdown",
   "metadata": {
    "id": "8Upu8Poz3Qus"
   },
   "source": [
    "Import Library yang dibutuhkan"
   ]
  },
  {
   "cell_type": "code",
   "execution_count": null,
   "metadata": {
    "id": "hJBMlx3LTwss"
   },
   "outputs": [],
   "source": [
    "import numpy as np\n",
    "import pandas as pd\n",
    "import matplotlib.pyplot as plt\n",
    "from datetime import datetime\n",
    "from sklearn import preprocessing\n",
    "import keras\n",
    "from keras.models import Sequential\n",
    "from keras.layers.core import Dense, Dropout, Activation\n",
    "from keras.layers.recurrent import LSTM\n",
    "from keras.models import load_model\n",
    "from keras import backend as K\n",
    "import math, time\n",
    "import itertools\n",
    "from math import sqrt\n",
    "import tensorflow as tf\n",
    "from sklearn.model_selection import train_test_split\n",
    "from sklearn.linear_model import LinearRegression\n",
    "from sklearn.metrics import mean_absolute_error\n",
    "from sklearn.metrics import r2_score\n",
    "from sklearn.svm import SVR"
   ]
  },
  {
   "cell_type": "markdown",
   "metadata": {
    "id": "7JvAo8l63UP8"
   },
   "source": [
    "Pengambilan Data dari Google Drive"
   ]
  },
  {
   "cell_type": "code",
   "execution_count": null,
   "metadata": {
    "colab": {
     "base_uri": "https://localhost:8080/"
    },
    "id": "6ckO0njCZI1H",
    "outputId": "6f6fb4c5-88ba-4c4d-8f7b-5c3f656daa82"
   },
   "outputs": [
    {
     "name": "stdout",
     "output_type": "stream",
     "text": [
      "Mounted at /content/drive\n"
     ]
    }
   ],
   "source": [
    "# Mount google drive untuk pengambilan data\n",
    "from google.colab import drive\n",
    "drive.mount('/content/drive')"
   ]
  },
  {
   "cell_type": "code",
   "execution_count": null,
   "metadata": {
    "colab": {
     "base_uri": "https://localhost:8080/",
     "height": 390
    },
    "id": "PVHeeH5-ZQ8E",
    "outputId": "b751acc0-0cc3-439e-fbe9-c5d1496b8368"
   },
   "outputs": [
    {
     "data": {
      "text/html": [
       "<div>\n",
       "<style scoped>\n",
       "    .dataframe tbody tr th:only-of-type {\n",
       "        vertical-align: middle;\n",
       "    }\n",
       "\n",
       "    .dataframe tbody tr th {\n",
       "        vertical-align: top;\n",
       "    }\n",
       "\n",
       "    .dataframe thead th {\n",
       "        text-align: right;\n",
       "    }\n",
       "</style>\n",
       "<table border=\"1\" class=\"dataframe\">\n",
       "  <thead>\n",
       "    <tr style=\"text-align: right;\">\n",
       "      <th></th>\n",
       "      <th>Date</th>\n",
       "      <th>Close</th>\n",
       "      <th>Volume</th>\n",
       "      <th>Open</th>\n",
       "      <th>High</th>\n",
       "      <th>Low</th>\n",
       "    </tr>\n",
       "  </thead>\n",
       "  <tbody>\n",
       "    <tr>\n",
       "      <th>0</th>\n",
       "      <td>10/5/2021</td>\n",
       "      <td>780.59</td>\n",
       "      <td>18432630.0</td>\n",
       "      <td>784.80</td>\n",
       "      <td>797.31</td>\n",
       "      <td>774.20</td>\n",
       "    </tr>\n",
       "    <tr>\n",
       "      <th>1</th>\n",
       "      <td>10/4/2021</td>\n",
       "      <td>781.53</td>\n",
       "      <td>30483340.0</td>\n",
       "      <td>796.50</td>\n",
       "      <td>806.97</td>\n",
       "      <td>776.12</td>\n",
       "    </tr>\n",
       "    <tr>\n",
       "      <th>2</th>\n",
       "      <td>10/1/2021</td>\n",
       "      <td>775.22</td>\n",
       "      <td>17031410.0</td>\n",
       "      <td>778.40</td>\n",
       "      <td>780.78</td>\n",
       "      <td>763.59</td>\n",
       "    </tr>\n",
       "    <tr>\n",
       "      <th>3</th>\n",
       "      <td>9/30/2021</td>\n",
       "      <td>775.48</td>\n",
       "      <td>17955960.0</td>\n",
       "      <td>781.00</td>\n",
       "      <td>789.13</td>\n",
       "      <td>775.00</td>\n",
       "    </tr>\n",
       "    <tr>\n",
       "      <th>4</th>\n",
       "      <td>9/29/2021</td>\n",
       "      <td>781.31</td>\n",
       "      <td>20942880.0</td>\n",
       "      <td>779.80</td>\n",
       "      <td>793.50</td>\n",
       "      <td>770.68</td>\n",
       "    </tr>\n",
       "    <tr>\n",
       "      <th>5</th>\n",
       "      <td>9/28/2021</td>\n",
       "      <td>777.56</td>\n",
       "      <td>25381420.0</td>\n",
       "      <td>787.20</td>\n",
       "      <td>795.64</td>\n",
       "      <td>766.18</td>\n",
       "    </tr>\n",
       "    <tr>\n",
       "      <th>6</th>\n",
       "      <td>9/27/2021</td>\n",
       "      <td>791.36</td>\n",
       "      <td>28070660.0</td>\n",
       "      <td>773.12</td>\n",
       "      <td>799.00</td>\n",
       "      <td>769.31</td>\n",
       "    </tr>\n",
       "    <tr>\n",
       "      <th>7</th>\n",
       "      <td>9/24/2021</td>\n",
       "      <td>774.39</td>\n",
       "      <td>21373020.0</td>\n",
       "      <td>745.89</td>\n",
       "      <td>774.80</td>\n",
       "      <td>744.56</td>\n",
       "    </tr>\n",
       "    <tr>\n",
       "      <th>8</th>\n",
       "      <td>9/23/2021</td>\n",
       "      <td>753.64</td>\n",
       "      <td>11947530.0</td>\n",
       "      <td>755.00</td>\n",
       "      <td>758.20</td>\n",
       "      <td>747.92</td>\n",
       "    </tr>\n",
       "    <tr>\n",
       "      <th>9</th>\n",
       "      <td>9/22/2021</td>\n",
       "      <td>751.94</td>\n",
       "      <td>15126270.0</td>\n",
       "      <td>743.53</td>\n",
       "      <td>753.67</td>\n",
       "      <td>739.12</td>\n",
       "    </tr>\n",
       "    <tr>\n",
       "      <th>10</th>\n",
       "      <td>9/21/2021</td>\n",
       "      <td>739.38</td>\n",
       "      <td>16330720.0</td>\n",
       "      <td>734.79</td>\n",
       "      <td>744.74</td>\n",
       "      <td>730.44</td>\n",
       "    </tr>\n",
       "  </tbody>\n",
       "</table>\n",
       "</div>"
      ],
      "text/plain": [
       "         Date   Close      Volume    Open    High     Low\n",
       "0   10/5/2021  780.59  18432630.0  784.80  797.31  774.20\n",
       "1   10/4/2021  781.53  30483340.0  796.50  806.97  776.12\n",
       "2   10/1/2021  775.22  17031410.0  778.40  780.78  763.59\n",
       "3   9/30/2021  775.48  17955960.0  781.00  789.13  775.00\n",
       "4   9/29/2021  781.31  20942880.0  779.80  793.50  770.68\n",
       "5   9/28/2021  777.56  25381420.0  787.20  795.64  766.18\n",
       "6   9/27/2021  791.36  28070660.0  773.12  799.00  769.31\n",
       "7   9/24/2021  774.39  21373020.0  745.89  774.80  744.56\n",
       "8   9/23/2021  753.64  11947530.0  755.00  758.20  747.92\n",
       "9   9/22/2021  751.94  15126270.0  743.53  753.67  739.12\n",
       "10  9/21/2021  739.38  16330720.0  734.79  744.74  730.44"
      ]
     },
     "execution_count": 3,
     "metadata": {},
     "output_type": "execute_result"
    }
   ],
   "source": [
    "# Load dan periksa data \n",
    "\n",
    "dataframe = pd.read_csv('/content/drive/MyDrive/Colab Notebooks/dataset/StockTSLA500.csv')\n",
    "dataframe.head(11)"
   ]
  },
  {
   "cell_type": "markdown",
   "metadata": {
    "id": "kSOf-LwL3a52"
   },
   "source": [
    "Pre-processing Data"
   ]
  },
  {
   "cell_type": "markdown",
   "metadata": {
    "id": "X02QvkOy9-_S"
   },
   "source": [
    "Pada pre-processing data, saya melakukan format ulang penanggalan dan melakukan pengurutan penanggalan."
   ]
  },
  {
   "cell_type": "code",
   "execution_count": null,
   "metadata": {
    "colab": {
     "base_uri": "https://localhost:8080/",
     "height": 269
    },
    "id": "mwOfKcwaZoD-",
    "outputId": "5f35e3d2-287c-425a-9264-10b44cca54bf"
   },
   "outputs": [
    {
     "name": "stdout",
     "output_type": "stream",
     "text": [
      "Historical stock price data for 1258 days\n",
      "from 2016-10-06 to 2021-10-05\n"
     ]
    },
    {
     "data": {
      "text/html": [
       "<div>\n",
       "<style scoped>\n",
       "    .dataframe tbody tr th:only-of-type {\n",
       "        vertical-align: middle;\n",
       "    }\n",
       "\n",
       "    .dataframe tbody tr th {\n",
       "        vertical-align: top;\n",
       "    }\n",
       "\n",
       "    .dataframe thead th {\n",
       "        text-align: right;\n",
       "    }\n",
       "</style>\n",
       "<table border=\"1\" class=\"dataframe\">\n",
       "  <thead>\n",
       "    <tr style=\"text-align: right;\">\n",
       "      <th></th>\n",
       "      <th>Volume</th>\n",
       "      <th>Open</th>\n",
       "      <th>High</th>\n",
       "      <th>Low</th>\n",
       "      <th>Close</th>\n",
       "    </tr>\n",
       "    <tr>\n",
       "      <th>Date</th>\n",
       "      <th></th>\n",
       "      <th></th>\n",
       "      <th></th>\n",
       "      <th></th>\n",
       "      <th></th>\n",
       "    </tr>\n",
       "  </thead>\n",
       "  <tbody>\n",
       "    <tr>\n",
       "      <th>2016-10-06</th>\n",
       "      <td>23489685.0</td>\n",
       "      <td>40.49</td>\n",
       "      <td>40.84</td>\n",
       "      <td>40.04</td>\n",
       "      <td>40.20</td>\n",
       "    </tr>\n",
       "    <tr>\n",
       "      <th>2016-10-07</th>\n",
       "      <td>17447400.0</td>\n",
       "      <td>40.20</td>\n",
       "      <td>40.26</td>\n",
       "      <td>39.16</td>\n",
       "      <td>39.32</td>\n",
       "    </tr>\n",
       "    <tr>\n",
       "      <th>2016-10-10</th>\n",
       "      <td>16556700.0</td>\n",
       "      <td>40.27</td>\n",
       "      <td>40.83</td>\n",
       "      <td>39.93</td>\n",
       "      <td>40.19</td>\n",
       "    </tr>\n",
       "    <tr>\n",
       "      <th>2016-10-11</th>\n",
       "      <td>11633770.0</td>\n",
       "      <td>40.37</td>\n",
       "      <td>40.44</td>\n",
       "      <td>39.66</td>\n",
       "      <td>40.02</td>\n",
       "    </tr>\n",
       "    <tr>\n",
       "      <th>2016-10-12</th>\n",
       "      <td>9845495.0</td>\n",
       "      <td>40.19</td>\n",
       "      <td>40.78</td>\n",
       "      <td>40.08</td>\n",
       "      <td>40.30</td>\n",
       "    </tr>\n",
       "  </tbody>\n",
       "</table>\n",
       "</div>"
      ],
      "text/plain": [
       "                Volume   Open   High    Low  Close\n",
       "Date                                              \n",
       "2016-10-06  23489685.0  40.49  40.84  40.04  40.20\n",
       "2016-10-07  17447400.0  40.20  40.26  39.16  39.32\n",
       "2016-10-10  16556700.0  40.27  40.83  39.93  40.19\n",
       "2016-10-11  11633770.0  40.37  40.44  39.66  40.02\n",
       "2016-10-12   9845495.0  40.19  40.78  40.08  40.30"
      ]
     },
     "execution_count": 4,
     "metadata": {},
     "output_type": "execute_result"
    }
   ],
   "source": [
    "mydata = pd.read_csv('/content/drive/MyDrive/Colab Notebooks/dataset/StockTSLA500.csv')\n",
    "## Format ulang Penanggalan (Date)\n",
    "mydata['Date'] = [datetime.strptime(t, '%m/%d/%Y').strftime('%Y-%m-%d') for t in mydata['Date']]\n",
    "## Mengurutkan value dataframe berdasarkan tanggal\n",
    "mydata.sort_values(by = 'Date', ascending=True, inplace=True)\n",
    "## Describe data\n",
    "mydata = mydata[['Date', 'Volume', 'Open', 'High', 'Low', 'Close']]\n",
    "mydata.set_index('Date', inplace=True)\n",
    "print('Historical stock price data for', mydata.shape[0], 'days')\n",
    "print('from', mydata.index[0], 'to', mydata.index[mydata.shape[0]-1])\n",
    "mydata.head()"
   ]
  },
  {
   "cell_type": "markdown",
   "metadata": {
    "id": "NejII7k0-aKQ"
   },
   "source": [
    "Menampilkan visualisasi data berupa plot pergerakan saham dari tahun 2016 sampai tahun 2021 yang berpatokan dengan harga close saham setiap harinya."
   ]
  },
  {
   "cell_type": "code",
   "execution_count": null,
   "metadata": {
    "colab": {
     "base_uri": "https://localhost:8080/",
     "height": 295
    },
    "id": "vrWG5M3tcJ3f",
    "outputId": "b8d2d2f1-6a63-4b6b-9885-68332f56b72c"
   },
   "outputs": [
    {
     "data": {
      "image/png": "[encoded data removed]",
      "text/plain": [
       "<Figure size 432x288 with 1 Axes>"
      ]
     },
     "metadata": {
      "needs_background": "light"
     },
     "output_type": "display_data"
    }
   ],
   "source": [
    "#Plot pergerakan saham dari tahun 2016 sampai tahun 2021\n",
    "plt.plot(mydata.index, mydata['Close'], color='royalblue')\n",
    "plt.title('Daily close price')\n",
    "plt.xlabel('Day')\n",
    "plt.ylabel('Dollar')\n",
    "plt.xticks([0, 252, 504, 756, 1008, 1260], ('2016', '2017', '2018', '2019', '2020', '2021') )\n",
    "plt.show()"
   ]
  },
  {
   "cell_type": "code",
   "execution_count": null,
   "metadata": {
    "id": "nE4SagFjlR71"
   },
   "outputs": [],
   "source": [
    "data=mydata.copy()"
   ]
  },
  {
   "cell_type": "markdown",
   "metadata": {},
   "source": [
    "## Data Preparation\n",
    "Proses untuk mempersiapkan data terdiri dari beberapa proses sebagai berikut :\n",
    "- Normalisasi yaitu untuk mengubah nilai kolom numerik dalam kumpulan data ke skala umum, tanpa mendistorsi perbedaan dalam rentang nilai.\n",
    "- Splitting data yaitu memisahkan data untuk proses latih dan proses untuk menguji kemampuan model yang akan di validasi mengunakan metrik regresi."
   ]
  },
  {
   "cell_type": "markdown",
   "metadata": {
    "id": "TcVR5_if-pv2"
   },
   "source": [
    "Melakukan proses normalisasi data dengan MinMaxScaler agar nilai dari dataframe berada pada rentang nilai ex [0,1]"
   ]
  },
  {
   "cell_type": "code",
   "execution_count": null,
   "metadata": {
    "colab": {
     "base_uri": "https://localhost:8080/",
     "height": 235
    },
    "id": "gyq6IABYmRCT",
    "outputId": "78cefe20-aa54-4666-c85f-da7f7633c403"
   },
   "outputs": [
    {
     "data": {
      "text/html": [
       "<div>\n",
       "<style scoped>\n",
       "    .dataframe tbody tr th:only-of-type {\n",
       "        vertical-align: middle;\n",
       "    }\n",
       "\n",
       "    .dataframe tbody tr th {\n",
       "        vertical-align: top;\n",
       "    }\n",
       "\n",
       "    .dataframe thead th {\n",
       "        text-align: right;\n",
       "    }\n",
       "</style>\n",
       "<table border=\"1\" class=\"dataframe\">\n",
       "  <thead>\n",
       "    <tr style=\"text-align: right;\">\n",
       "      <th></th>\n",
       "      <th>Volume</th>\n",
       "      <th>Open</th>\n",
       "      <th>High</th>\n",
       "      <th>Low</th>\n",
       "      <th>Close</th>\n",
       "    </tr>\n",
       "    <tr>\n",
       "      <th>Date</th>\n",
       "      <th></th>\n",
       "      <th></th>\n",
       "      <th></th>\n",
       "      <th></th>\n",
       "      <th></th>\n",
       "    </tr>\n",
       "  </thead>\n",
       "  <tbody>\n",
       "    <tr>\n",
       "      <th>2016-10-06</th>\n",
       "      <td>0.046421</td>\n",
       "      <td>0.004993</td>\n",
       "      <td>0.004505</td>\n",
       "      <td>0.005549</td>\n",
       "      <td>0.005205</td>\n",
       "    </tr>\n",
       "    <tr>\n",
       "      <th>2016-10-07</th>\n",
       "      <td>0.025931</td>\n",
       "      <td>0.004654</td>\n",
       "      <td>0.003833</td>\n",
       "      <td>0.004497</td>\n",
       "      <td>0.004166</td>\n",
       "    </tr>\n",
       "    <tr>\n",
       "      <th>2016-10-10</th>\n",
       "      <td>0.022910</td>\n",
       "      <td>0.004736</td>\n",
       "      <td>0.004494</td>\n",
       "      <td>0.005417</td>\n",
       "      <td>0.005193</td>\n",
       "    </tr>\n",
       "    <tr>\n",
       "      <th>2016-10-11</th>\n",
       "      <td>0.006217</td>\n",
       "      <td>0.004853</td>\n",
       "      <td>0.004042</td>\n",
       "      <td>0.005094</td>\n",
       "      <td>0.004992</td>\n",
       "    </tr>\n",
       "    <tr>\n",
       "      <th>2016-10-12</th>\n",
       "      <td>0.000152</td>\n",
       "      <td>0.004642</td>\n",
       "      <td>0.004436</td>\n",
       "      <td>0.005597</td>\n",
       "      <td>0.005323</td>\n",
       "    </tr>\n",
       "  </tbody>\n",
       "</table>\n",
       "</div>"
      ],
      "text/plain": [
       "              Volume      Open      High       Low     Close\n",
       "Date                                                        \n",
       "2016-10-06  0.046421  0.004993  0.004505  0.005549  0.005205\n",
       "2016-10-07  0.025931  0.004654  0.003833  0.004497  0.004166\n",
       "2016-10-10  0.022910  0.004736  0.004494  0.005417  0.005193\n",
       "2016-10-11  0.006217  0.004853  0.004042  0.005094  0.004992\n",
       "2016-10-12  0.000152  0.004642  0.004436  0.005597  0.005323"
      ]
     },
     "execution_count": 7,
     "metadata": {},
     "output_type": "execute_result"
    }
   ],
   "source": [
    "# Proses normalisasi data menggunakan minmaxscaler\n",
    "# Supaya nilai dari dataframe berada dalam sebuah rentang nilai ex [0, 1]\n",
    "min_max_scaler = preprocessing.MinMaxScaler()\n",
    "data['Volume'] = min_max_scaler.fit_transform(data['Volume'].values.reshape(-1,1))\n",
    "data['Open'] = min_max_scaler.fit_transform(data['Open'].values.reshape(-1,1))\n",
    "data['High'] = min_max_scaler.fit_transform(data['High'].values.reshape(-1,1))\n",
    "data['Low'] = min_max_scaler.fit_transform(data['Low'].values.reshape(-1,1))\n",
    "data['Close'] = min_max_scaler.fit_transform(data['Close'].values.reshape(-1,1))\n",
    "\n",
    "data.head()\n"
   ]
  },
  {
   "cell_type": "code",
   "execution_count": null,
   "metadata": {
    "id": "k-JV82Snm2o7"
   },
   "outputs": [],
   "source": [
    "data = data.values\n",
    "df = []\n",
    "for index in range(len(data) - 31):\n",
    "    df.append(data[index: index + 31])\n",
    "df = np.array(df)"
   ]
  },
  {
   "cell_type": "markdown",
   "metadata": {
    "id": "Wa_lfpNy-16d"
   },
   "source": [
    "Melakukan partisi dataset menjadi subsection data untuk meningkatkan dimensi dari data tersebut."
   ]
  },
  {
   "cell_type": "code",
   "execution_count": null,
   "metadata": {
    "id": "2MTa7M0-kvXl"
   },
   "outputs": [],
   "source": [
    "# Fungsi untuk mempartisi dataset menjadi subsection data untuk meningkatkan dimensinya\n",
    "def windowed_dataset(series, window_size, batch_size, shuffle_buffer):\n",
    "    #series = tf.expand_dims(series, axis=-1)\n",
    "    ds = tf.data.Dataset.from_tensor_slices(series)\n",
    "    ds = ds.window(window_size + 1, shift=1, drop_remainder=True)\n",
    "    ds = ds.flat_map(lambda w: w.batch(window_size + 1))\n",
    "    ds = ds.shuffle(shuffle_buffer)\n",
    "    ds = ds.map(lambda w: (w[:-1], w[-1:]))\n",
    "    return ds.batch(batch_size).prefetch(1)"
   ]
  },
  {
   "cell_type": "markdown",
   "metadata": {
    "id": "Bpw0FIgD-75H"
   },
   "source": [
    "Melakukan proses splitting data atau memecah data ke dalam data training dan data testing sebesar 80% untuk data training (dari total jumlah data) dan 20% untuk data testing (dari total jumlah data)."
   ]
  },
  {
   "cell_type": "code",
   "execution_count": null,
   "metadata": {
    "colab": {
     "base_uri": "https://localhost:8080/"
    },
    "id": "-3lkPVNxqW3t",
    "outputId": "528674ed-0282-44b7-fac8-006483844aef"
   },
   "outputs": [
    {
     "name": "stdout",
     "output_type": "stream",
     "text": [
      "Training set: 982 obs\n",
      "Test set: 245 obs\n"
     ]
    }
   ],
   "source": [
    "#Splitting 80/20 untuk train 80 persen dan test 20 persen\n",
    "\n",
    "splitRow = round(0.8 * df.shape[0])\n",
    "\n",
    "## Training (80%)\n",
    "train = df[:int(splitRow), :]\n",
    "X_train = train[:, :-1] # all data until day 30\n",
    "y_train = train[:, -1][:,-1] # day 31 close price\n",
    "print('Training set:', train.shape[0], 'obs')\n",
    "\n",
    "## Test (20%)\n",
    "test = df[int(splitRow):, :]\n",
    "X_test = test[:, :-1] # all data until day 30\n",
    "y_test = test[:, -1][:,-1] # day 31 close price\n",
    "print('Test set:', test.shape[0], 'obs')"
   ]
  },
  {
   "cell_type": "markdown",
   "metadata": {
    "id": "33ahdNBM_UdU"
   },
   "source": [
    "Menampilkan visualisasi data berupa plot hasil persebaran data training dengan data testing"
   ]
  },
  {
   "cell_type": "code",
   "execution_count": null,
   "metadata": {
    "colab": {
     "base_uri": "https://localhost:8080/",
     "height": 295
    },
    "id": "apgzs7Jpqh_f",
    "outputId": "44622b4c-13ce-4da6-fa28-dea0f04bb507"
   },
   "outputs": [
    {
     "data": {
      "image/png": "[encoded data removed]",
      "text/plain": [
       "<Figure size 432x288 with 1 Axes>"
      ]
     },
     "metadata": {
      "needs_background": "light"
     },
     "output_type": "display_data"
    }
   ],
   "source": [
    "# Plot data untuk memeriksa data untuk training dan data untuk test\n",
    "mytrain = mydata.iloc[0:982]\n",
    "mytest = mydata.iloc[982:1227]\n",
    "plt.plot(mytrain.index, mytrain['Close'], color='royalblue', label='Training')\n",
    "plt.plot(mytest.index, mytest['Close'], color='mediumseagreen', label='Test')\n",
    "plt.xticks([0, 252, 504, 756, 1008, 1260], ('2016', '2017', '2018', '2019', '2020', '2021'))\n",
    "plt.legend(loc='upper left')\n",
    "plt.title('Daily close price')\n",
    "plt.xlabel('Day')\n",
    "plt.ylabel('Dollar')\n",
    "plt.show()"
   ]
  },
  {
   "cell_type": "code",
   "execution_count": null,
   "metadata": {
    "id": "Imd3FwNfn6nZ"
   },
   "outputs": [],
   "source": [
    "X_train_r=X_train.reshape(-1, 1)\n",
    "X_test_r=X_test.reshape(-1, 1)"
   ]
  },
  {
   "cell_type": "markdown",
   "metadata": {},
   "source": [
    "## Modeling\n",
    "Untuk bagian proses ini adalah memodelkan machine learning dengan data yang telah kita siapkan melalui beberapa proses di Data Preparation.\n",
    "Ada 3 model kita gunakan pada proses ini yaitu Linear Regression, SVR dan LSTM. Dari hasil prediksi model-model tersebut kita memperoleh Linear regression\n",
    "dengan nilai mean absolute error (nilai error) paling rendah diikuti dengan SVR pada posisi kedua dan LSTM pada posisi ketiga menggunakan data yang jumlahnya\n",
    "lebih dari 1000 buah dengan rentang waktu 2016 sampai 2021.\n",
    "\n",
    "## Evaluation\n",
    "\n",
    "Setelah kita melakukan pemodelan maka selanjutkan kita akan melakukan tahap evaluasi menggunakan dua metriks skor dibawah ini :\n",
    "- R2 Score\n",
    "\n",
    "R2-Squared adalah ukuran statistik tentang seberapa dekat data dengan garis regresi yang sesuai dan bisa disebut sebagai performa seberapa akurat\n",
    "model machine learning dalam memprediksi data uji.\n",
    "\n",
    "![R-Squared](https://miro.medium.com/max/1200/1*_HbrAW-tMRBli6ASD5Bttw.png)\n",
    "\n",
    "Perhitungan R-squared yang sebenarnya membutuhkan beberapa langkah. Ini termasuk mengambil titik data (pengamatan) dari variabel dependen dan independen dan menemukan garis yang paling cocok, seringkali dari model regresi. Dari sana Anda akan menghitung nilai prediksi, mengurangi nilai aktual, dan mengkuadratkan hasilnya. Ini menghasilkan daftar kesalahan yang dikuadratkan, yang kemudian dijumlahkan dan sama dengan varians yang tidak dapat dijelaskan.\n",
    "\n",
    "Untuk menghitung varians total, Anda akan mengurangi nilai aktual rata-rata dari masing-masing nilai aktual, kuadratkan hasilnya, dan jumlahkan. Dari sana, bagi jumlah kesalahan pertama (varian yang dijelaskan) dengan jumlah kedua (varian total), kurangi hasilnya dari satu, dan itulah hasil R-kuadrat.\n",
    "\n",
    "R-Squared hanya berfungsi sebagaimana dimaksud dalam model regresi linier sederhana dengan satu variabel penjelas. Dengan regresi berganda yang terdiri dari beberapa variabel bebas, maka R-Squared harus disesuaikan.\n",
    "\n",
    "Sumber : [tautan](https://www.google.com/url?sa=i&url=https%3A%2F%2Fstats.stackexchange.com%2Fquestions%2F183265%2Fwhat-does-negative-r-squared-mean&psig=AOvVaw2ERqw4b6Et0SYYSDp3ER_A&ust=1633853830870000&source=images&cd=vfe&ved=2ahUKEwizq_P68bzzAhXTm0sFHdLCBIMQr4kDegUIARDYAQ)\n",
    "\n",
    "Dan cara mengimplementasikannya dalam kode adalah :\n",
    "\n",
    "```\n",
    "from sklearn.metrics import r2_score\n",
    "\n",
    "print('R2 score (Coefficient of Determination):',r2_score(truth,prediction))\n",
    "```\n",
    "\n",
    "- Mean Absolute Error (MAE)\n",
    "\n",
    "MAE adalah metrik yang sangat sederhana yang menghitung perbedaan absolut antara nilai aktual dan prediksi. \n",
    "MAE model Anda pada dasarnya adalah kesalahan yang dibuat oleh model yang dikenal sebagai kesalahan atau eror. \n",
    "Sekarang temukan perbedaan antara nilai aktual dan nilai prediksi yang merupakan kesalahan absolut tetapi kita harus menemukan mean absolut dari kumpulan data lengkap. Jadi, jumlahkan semua kesalahan dan bagi dengan jumlah total pengamatan Dan ini adalah MAE. Dan kami bertujuan untuk mendapatkan MAE minimum karena ini adalah error atau kerugian.\n",
    "\n",
    "Mengingat setiap kumpulan data pengujian, Mean Absolute Error model yang dievaluasi mengacu pada rata-rata nilai absolut dari setiap kesalahan prediksi pada semua instance \n",
    "dari kumpulan data pengujian. Kesalahan prediksi adalah perbedaan antara nilai aktual dan nilai prediksi untuk contoh itu. Secara statistik, Mean Absolute Error (MAE) mengacu pada \n",
    "hasil pengukuran perbedaan antara dua variabel kontinu. Jika asumsikan variabel M dan N mewakili fenomena yang sama tetapi telah mencatat pengamatan yang berbeda.\n",
    "Untuk plot pencar yang diberikan titik x, di mana titik j memiliki koordinat (Mj, Nj). Mean Absolute Error (MAE) disini yang akan menjadi jarak vertikal rata-rata antara setiap titik dan garis N=M. \n",
    "Ini juga dikenal sebagai garis One-to-One. \n",
    "MAE juga pada titik ini akan menjadi rata-rata jarak horizontal total antara setiap titik dan garis N=M.\n",
    "\n",
    "![Mean Absolute Error](https://miro.medium.com/max/1400/1*mmUJKWuxJL56AudpnC5qYQ.png)\n",
    "\n",
    "Kelebihan MAE : \n",
    "- MAE yang Anda dapatkan berada di unit yang sama dengan variabel output.\n",
    "- MAE paling kuat untuk menangani outlier.\n",
    "\n",
    "Kekurangan MAE yaitu grafik yang tidak terdiferensiasi sehingga kita harus menerapkan berbagai pengoptimal seperti penurunan Gradien yang dapat didiferensiasikan.\n",
    "\n",
    "Dan cara mengimplementasikanya dalam kode adalah :\n",
    "```\n",
    "from sklearn.metrics import mean_absolute_error\n",
    "\n",
    "print(\"MAE :\",mean_absolute_error(truth,prediction))\n",
    "```\n",
    "Khusus untuk tensorflow cara menggunakan MAE seperti ini :\n",
    "```\n",
    "#Compile menggunakan metrics MAE\n",
    "model.compile(loss=tf.keras.losses.Huber(),\n",
    "              optimizer=optimizer,\n",
    "              metrics=[\"mae\"])\n",
    "```"
   ]
  },
  {
   "cell_type": "markdown",
   "metadata": {
    "id": "HTTFheO8mgAo"
   },
   "source": [
    "## Long Short-Term Memory"
   ]
  },
  {
   "cell_type": "markdown",
   "metadata": {
    "id": "rYe6V8Mt_hs-"
   },
   "source": [
    "Membuat model LSTM dimana model ini berbasis jaringan syaraf tiruan dan varian dari recurrent neural network (RNN).\n",
    "yang berkemampuan untuk mempelajari urutan kebergantungan dari sebuah data sekuensial."
   ]
  },
  {
   "cell_type": "code",
   "execution_count": null,
   "metadata": {
    "id": "ImbhsXFTsb3z"
   },
   "outputs": [],
   "source": [
    "# Partisi data train dan test untuk proses learning model tensorflow\n",
    "data_x_train = windowed_dataset(X_train_r, window_size=60, batch_size=64, shuffle_buffer=1000)\n",
    "data_x_test = windowed_dataset(X_test_r, window_size=60, batch_size=64, shuffle_buffer=1000)\n",
    "\n",
    "#Definisikan model sekuensial untuk LSTM dengan 3 layer yang terdiri dari 128, 64 dan 32 unit\n",
    "model = tf.keras.models.Sequential([\n",
    "  tf.keras.layers.LSTM(128, return_sequences=True), \n",
    "  tf.keras.layers.LSTM(64, return_sequences=True),\n",
    "  tf.keras.layers.LSTM(32, return_sequences=True),\n",
    "    \n",
    "  tf.keras.layers.Dense(60, activation=\"relu\"),\n",
    "  tf.keras.layers.Dense(30, activation=\"relu\"),\n",
    "  tf.keras.layers.Dense(10, activation=\"relu\"),\n",
    "  tf.keras.layers.Dense(1),\n",
    "  tf.keras.layers.Lambda(lambda x: x * 400)\n",
    "])\n",
    "\n",
    "# Mengatur/Set learning rate scheduler\n",
    "lr_schedule = tf.keras.callbacks.LearningRateScheduler(\n",
    "    lambda epoch: 1e-8 * 10**(epoch / 20))\n",
    "\n",
    "# Menggunakan optimizer Adam\n",
    "optimizer = tf.keras.optimizers.Adam(learning_rate=1e-8)\n",
    "\n",
    "#Compile menggunakan metrics MAE\n",
    "model.compile(loss=tf.keras.losses.Huber(),\n",
    "              optimizer=optimizer,\n",
    "              metrics=[\"mae\"])"
   ]
  },
  {
   "cell_type": "markdown",
   "metadata": {
    "id": "Allgdx0WAfuE"
   },
   "source": [
    "Train Model LSTM"
   ]
  },
  {
   "cell_type": "code",
   "execution_count": null,
   "metadata": {
    "colab": {
     "base_uri": "https://localhost:8080/"
    },
    "id": "QEb7OFpVteYb",
    "outputId": "b4e19c3f-53df-4edf-bbe7-4a0c380c1f07",
    "scrolled": true
   },
   "outputs": [
    {
     "name": "stdout",
     "output_type": "stream",
     "text": [
      "Epoch 1/20\n",
      "2301/2301 [==============================] - 487s 211ms/step - loss: 0.3077 - mae: 0.4484 - val_loss: 6.1537 - val_mae: 6.6380\n",
      "Epoch 2/20\n",
      "2301/2301 [==============================] - 480s 208ms/step - loss: 0.2793 - mae: 0.4061 - val_loss: 5.8632 - val_mae: 6.3471\n",
      "Epoch 3/20\n",
      "2301/2301 [==============================] - 482s 209ms/step - loss: 0.2512 - mae: 0.3679 - val_loss: 5.5511 - val_mae: 6.0344\n",
      "Epoch 4/20\n",
      "2301/2301 [==============================] - 482s 209ms/step - loss: 0.2230 - mae: 0.3324 - val_loss: 5.2170 - val_mae: 5.6995\n",
      "Epoch 5/20\n",
      "2301/2301 [==============================] - 485s 211ms/step - loss: 0.1949 - mae: 0.2986 - val_loss: 4.8702 - val_mae: 5.3518\n",
      "Epoch 6/20\n",
      "2301/2301 [==============================] - 482s 210ms/step - loss: 0.1677 - mae: 0.2664 - val_loss: 4.5083 - val_mae: 4.9888\n",
      "Epoch 7/20\n",
      "2301/2301 [==============================] - 482s 209ms/step - loss: 0.1420 - mae: 0.2361 - val_loss: 4.1301 - val_mae: 4.6094\n",
      "Epoch 8/20\n",
      "2301/2301 [==============================] - 489s 213ms/step - loss: 0.1182 - mae: 0.2072 - val_loss: 3.7423 - val_mae: 4.2200\n",
      "Epoch 9/20\n",
      "2301/2301 [==============================] - 484s 210ms/step - loss: 0.0965 - mae: 0.1797 - val_loss: 3.3521 - val_mae: 3.8279\n",
      "Epoch 10/20\n",
      "2301/2301 [==============================] - 488s 212ms/step - loss: 0.0777 - mae: 0.1546 - val_loss: 2.9777 - val_mae: 3.4513\n",
      "Epoch 11/20\n",
      "2301/2301 [==============================] - 488s 212ms/step - loss: 0.0615 - mae: 0.1320 - val_loss: 2.6245 - val_mae: 3.0956\n",
      "Epoch 12/20\n",
      "2301/2301 [==============================] - 488s 212ms/step - loss: 0.0478 - mae: 0.1124 - val_loss: 2.2974 - val_mae: 2.7661\n",
      "Epoch 13/20\n",
      "2301/2301 [==============================] - 494s 215ms/step - loss: 0.0361 - mae: 0.0957 - val_loss: 1.9835 - val_mae: 2.4497\n",
      "Epoch 14/20\n",
      "2301/2301 [==============================] - 490s 213ms/step - loss: 0.0257 - mae: 0.0809 - val_loss: 1.6660 - val_mae: 2.1291\n",
      "Epoch 15/20\n",
      "2301/2301 [==============================] - 492s 214ms/step - loss: 0.0173 - mae: 0.0686 - val_loss: 1.3659 - val_mae: 1.8236\n",
      "Epoch 16/20\n",
      "2301/2301 [==============================] - 491s 213ms/step - loss: 0.0113 - mae: 0.0591 - val_loss: 1.0909 - val_mae: 1.5381\n",
      "Epoch 17/20\n",
      "2301/2301 [==============================] - 487s 212ms/step - loss: 0.0074 - mae: 0.0517 - val_loss: 0.8499 - val_mae: 1.2827\n",
      "Epoch 18/20\n",
      "2301/2301 [==============================] - 483s 210ms/step - loss: 0.0049 - mae: 0.0457 - val_loss: 0.6458 - val_mae: 1.0612\n",
      "Epoch 19/20\n",
      "2301/2301 [==============================] - 481s 209ms/step - loss: 0.0034 - mae: 0.0410 - val_loss: 0.4827 - val_mae: 0.8747\n",
      "Epoch 20/20\n",
      "2301/2301 [==============================] - 483s 210ms/step - loss: 0.0026 - mae: 0.0377 - val_loss: 0.3519 - val_mae: 0.7148\n"
     ]
    }
   ],
   "source": [
    "# Train model LSTM\n",
    "history = model.fit(data_x_train ,batch_size = 512, epochs=20, validation_data=data_x_test, callbacks=[lr_schedule])"
   ]
  },
  {
   "cell_type": "markdown",
   "metadata": {},
   "source": [
    "LSTM sendiri memperoleh hasil nilai error MAE : 0.7 pada validasi data ujinya dengan akurasi R2-Squared (Coefficient Determination) sekitar 0.30 yang mengindikasikan bahwa kemampuan LSTM ini sangat rendah walaupuntelah melalui beberapa improvement baseline yang sebelumnya menggunakan 1 layer dengan 128 unit neuron dengan nilai error yang masih tinggi. Kemudian dilakukan proses hyperparameter tuning dengan menambahkan 2 buah layer lstm dengan 64 dan 32 unit neuron masing-masing, kemudian ada penambahan dense layer untuk meningkatkan kompleksitas jaringannya untuk menangani rangkaian data tersebut. Hasil ini masih bisa ditingkatkan lagi karena keterbukaan jaringan syaraf tiruan yang bisa selalu ditingkatkan performanya dengan menambahkan parameter regularisasi serta jumlah unit yang berbeda sebagai faktor yang memungkinkan hasilnya bisa menjadi lebih baik dibanding SVR atau bahkan linear regression."
   ]
  },
  {
   "cell_type": "markdown",
   "metadata": {
    "id": "WwhLck4A4b8a"
   },
   "source": [
    "Pre-processing untuk algoritma selanjutnya"
   ]
  },
  {
   "cell_type": "code",
   "execution_count": null,
   "metadata": {
    "colab": {
     "base_uri": "https://localhost:8080/",
     "height": 235
    },
    "id": "e9l5oShfmDuI",
    "outputId": "9afc72e9-cdb5-4977-9df4-bb45fcb5a1be"
   },
   "outputs": [
    {
     "data": {
      "text/html": [
       "<div>\n",
       "<style scoped>\n",
       "    .dataframe tbody tr th:only-of-type {\n",
       "        vertical-align: middle;\n",
       "    }\n",
       "\n",
       "    .dataframe tbody tr th {\n",
       "        vertical-align: top;\n",
       "    }\n",
       "\n",
       "    .dataframe thead th {\n",
       "        text-align: right;\n",
       "    }\n",
       "</style>\n",
       "<table border=\"1\" class=\"dataframe\">\n",
       "  <thead>\n",
       "    <tr style=\"text-align: right;\">\n",
       "      <th></th>\n",
       "      <th>Volume</th>\n",
       "      <th>Open</th>\n",
       "      <th>High</th>\n",
       "      <th>Low</th>\n",
       "      <th>Close</th>\n",
       "    </tr>\n",
       "    <tr>\n",
       "      <th>Date</th>\n",
       "      <th></th>\n",
       "      <th></th>\n",
       "      <th></th>\n",
       "      <th></th>\n",
       "      <th></th>\n",
       "    </tr>\n",
       "  </thead>\n",
       "  <tbody>\n",
       "    <tr>\n",
       "      <th>2016-10-06</th>\n",
       "      <td>23489685.0</td>\n",
       "      <td>40.49</td>\n",
       "      <td>40.84</td>\n",
       "      <td>40.04</td>\n",
       "      <td>40.20</td>\n",
       "    </tr>\n",
       "    <tr>\n",
       "      <th>2016-10-07</th>\n",
       "      <td>17447400.0</td>\n",
       "      <td>40.20</td>\n",
       "      <td>40.26</td>\n",
       "      <td>39.16</td>\n",
       "      <td>39.32</td>\n",
       "    </tr>\n",
       "    <tr>\n",
       "      <th>2016-10-10</th>\n",
       "      <td>16556700.0</td>\n",
       "      <td>40.27</td>\n",
       "      <td>40.83</td>\n",
       "      <td>39.93</td>\n",
       "      <td>40.19</td>\n",
       "    </tr>\n",
       "    <tr>\n",
       "      <th>2016-10-11</th>\n",
       "      <td>11633770.0</td>\n",
       "      <td>40.37</td>\n",
       "      <td>40.44</td>\n",
       "      <td>39.66</td>\n",
       "      <td>40.02</td>\n",
       "    </tr>\n",
       "    <tr>\n",
       "      <th>2016-10-12</th>\n",
       "      <td>9845495.0</td>\n",
       "      <td>40.19</td>\n",
       "      <td>40.78</td>\n",
       "      <td>40.08</td>\n",
       "      <td>40.30</td>\n",
       "    </tr>\n",
       "  </tbody>\n",
       "</table>\n",
       "</div>"
      ],
      "text/plain": [
       "                Volume   Open   High    Low  Close\n",
       "Date                                              \n",
       "2016-10-06  23489685.0  40.49  40.84  40.04  40.20\n",
       "2016-10-07  17447400.0  40.20  40.26  39.16  39.32\n",
       "2016-10-10  16556700.0  40.27  40.83  39.93  40.19\n",
       "2016-10-11  11633770.0  40.37  40.44  39.66  40.02\n",
       "2016-10-12   9845495.0  40.19  40.78  40.08  40.30"
      ]
     },
     "execution_count": 32,
     "metadata": {},
     "output_type": "execute_result"
    }
   ],
   "source": [
    "df = mydata.copy()\n",
    "df.head()"
   ]
  },
  {
   "cell_type": "markdown",
   "metadata": {
    "id": "7IyVSExfAjg9"
   },
   "source": [
    "Melakukan Normalisasi data untuk model ML Support Vector Regression dan Linear Regression"
   ]
  },
  {
   "cell_type": "code",
   "execution_count": null,
   "metadata": {
    "colab": {
     "base_uri": "https://localhost:8080/",
     "height": 235
    },
    "id": "10dYE--ImFcI",
    "outputId": "df52753e-fcc0-43b6-d737-111706c396ab"
   },
   "outputs": [
    {
     "data": {
      "text/html": [
       "<div>\n",
       "<style scoped>\n",
       "    .dataframe tbody tr th:only-of-type {\n",
       "        vertical-align: middle;\n",
       "    }\n",
       "\n",
       "    .dataframe tbody tr th {\n",
       "        vertical-align: top;\n",
       "    }\n",
       "\n",
       "    .dataframe thead th {\n",
       "        text-align: right;\n",
       "    }\n",
       "</style>\n",
       "<table border=\"1\" class=\"dataframe\">\n",
       "  <thead>\n",
       "    <tr style=\"text-align: right;\">\n",
       "      <th></th>\n",
       "      <th>Volume</th>\n",
       "      <th>Open</th>\n",
       "      <th>High</th>\n",
       "      <th>Low</th>\n",
       "      <th>Close</th>\n",
       "    </tr>\n",
       "    <tr>\n",
       "      <th>Date</th>\n",
       "      <th></th>\n",
       "      <th></th>\n",
       "      <th></th>\n",
       "      <th></th>\n",
       "      <th></th>\n",
       "    </tr>\n",
       "  </thead>\n",
       "  <tbody>\n",
       "    <tr>\n",
       "      <th>2016-10-06</th>\n",
       "      <td>0.046421</td>\n",
       "      <td>0.004993</td>\n",
       "      <td>0.004505</td>\n",
       "      <td>0.005549</td>\n",
       "      <td>0.005205</td>\n",
       "    </tr>\n",
       "    <tr>\n",
       "      <th>2016-10-07</th>\n",
       "      <td>0.025931</td>\n",
       "      <td>0.004654</td>\n",
       "      <td>0.003833</td>\n",
       "      <td>0.004497</td>\n",
       "      <td>0.004166</td>\n",
       "    </tr>\n",
       "    <tr>\n",
       "      <th>2016-10-10</th>\n",
       "      <td>0.022910</td>\n",
       "      <td>0.004736</td>\n",
       "      <td>0.004494</td>\n",
       "      <td>0.005417</td>\n",
       "      <td>0.005193</td>\n",
       "    </tr>\n",
       "    <tr>\n",
       "      <th>2016-10-11</th>\n",
       "      <td>0.006217</td>\n",
       "      <td>0.004853</td>\n",
       "      <td>0.004042</td>\n",
       "      <td>0.005094</td>\n",
       "      <td>0.004992</td>\n",
       "    </tr>\n",
       "    <tr>\n",
       "      <th>2016-10-12</th>\n",
       "      <td>0.000152</td>\n",
       "      <td>0.004642</td>\n",
       "      <td>0.004436</td>\n",
       "      <td>0.005597</td>\n",
       "      <td>0.005323</td>\n",
       "    </tr>\n",
       "  </tbody>\n",
       "</table>\n",
       "</div>"
      ],
      "text/plain": [
       "              Volume      Open      High       Low     Close\n",
       "Date                                                        \n",
       "2016-10-06  0.046421  0.004993  0.004505  0.005549  0.005205\n",
       "2016-10-07  0.025931  0.004654  0.003833  0.004497  0.004166\n",
       "2016-10-10  0.022910  0.004736  0.004494  0.005417  0.005193\n",
       "2016-10-11  0.006217  0.004853  0.004042  0.005094  0.004992\n",
       "2016-10-12  0.000152  0.004642  0.004436  0.005597  0.005323"
      ]
     },
     "execution_count": 33,
     "metadata": {},
     "output_type": "execute_result"
    }
   ],
   "source": [
    "# Normalisasi data untuk model machine learning SVR dan linreg\n",
    "df['Volume'] = min_max_scaler.fit_transform(df['Volume'].values.reshape(-1,1))\n",
    "df['Open'] = min_max_scaler.fit_transform(df['Open'].values.reshape(-1,1))\n",
    "df['High'] = min_max_scaler.fit_transform(df['High'].values.reshape(-1,1))\n",
    "df['Low'] = min_max_scaler.fit_transform(df['Low'].values.reshape(-1,1))\n",
    "df['Close'] = min_max_scaler.fit_transform(df['Close'].values.reshape(-1,1))\n",
    "\n",
    "df.head()"
   ]
  },
  {
   "cell_type": "markdown",
   "metadata": {
    "id": "vCAyHUXxAsdE"
   },
   "source": [
    "Melakukan proses splitting data atau memecah data ke dalam data training dan data testing sebesar 80% untuk data training (dari total jumlah data) dan 20% untuk data testing (dari total jumlah data)."
   ]
  },
  {
   "cell_type": "code",
   "execution_count": null,
   "metadata": {
    "id": "rJzcnFeYnLbQ"
   },
   "outputs": [],
   "source": [
    "# Split atau bagi data dengan persentase 80/20 menggunakan semua fitur kecuali close sebagai target\n",
    "X_train, X_test, y_train, y_test = train_test_split(df[['Volume', 'Open', 'High', 'Low']], df[['Close']], test_size=.2)"
   ]
  },
  {
   "cell_type": "code",
   "execution_count": null,
   "metadata": {
    "colab": {
     "base_uri": "https://localhost:8080/"
    },
    "id": "Xzt-W4oo1N0I",
    "outputId": "1c9b8ba0-aa25-4c81-e3ab-6a0f01be255d"
   },
   "outputs": [
    {
     "data": {
      "text/plain": [
       "((1006, 4), (252, 4))"
      ]
     },
     "execution_count": 51,
     "metadata": {},
     "output_type": "execute_result"
    }
   ],
   "source": [
    "X_train.shape, X_test.shape"
   ]
  },
  {
   "cell_type": "markdown",
   "metadata": {
    "id": "4mSPfQ48wSU9"
   },
   "source": [
    "## Linear Regression"
   ]
  },
  {
   "cell_type": "markdown",
   "metadata": {
    "id": "z9nVmDYHAxiO"
   },
   "source": [
    "Membuat Model Linear Regression dimana model ini merupakan algoritma yang melakukan pemodelan dari hubungan dua variabel dengan proses fitting \n",
    "equasi linear terhadap data yang diobservasi. Model ini digunakan untuk memprediksi nilai suatu variable berdasarkan nilai dari variable\n",
    "lainnya. Nilai yang diprediksi merupakan variabel yang dependen, sedangkan nilai variable yang digunakan untuk memprediksi merupakan \n",
    "variabel independen. "
   ]
  },
  {
   "cell_type": "code",
   "execution_count": null,
   "metadata": {
    "id": "Yx64XH51o_Ll"
   },
   "outputs": [],
   "source": [
    "# Buat model Linear Regression\n",
    "model_lr = LinearRegression()\n",
    "# Train model Linear Regression\n",
    "model_lr.fit(X_train, y_train)\n",
    "#Prediksi menggunakan data uji\n",
    "y_pred_lr = model_lr.predict(X_test)"
   ]
  },
  {
   "cell_type": "markdown",
   "metadata": {
    "id": "ZjTUTCWmA8PE"
   },
   "source": [
    "Menghitung performa dari model Linear Regression"
   ]
  },
  {
   "cell_type": "code",
   "execution_count": null,
   "metadata": {
    "colab": {
     "base_uri": "https://localhost:8080/"
    },
    "id": "rO4gfTuzq99q",
    "outputId": "b3960875-9e58-4a62-c526-d7de903d4c61"
   },
   "outputs": [
    {
     "name": "stdout",
     "output_type": "stream",
     "text": [
      "R2 score (Coefficient of Determination): 0.9994044067327629\n",
      "MAE : 0.0034310297676294938\n"
     ]
    }
   ],
   "source": [
    "# Hitung performa akurasi dari model\n",
    "print('R2 score (Coefficient of Determination):',r2_score(y_test,y_pred_lr))\n",
    "# Hitung error dari model menggunakan mean absolute error (mae)\n",
    "print(\"MAE :\",mean_absolute_error(y_test,y_pred_lr))"
   ]
  },
  {
   "cell_type": "markdown",
   "metadata": {},
   "source": [
    "Linear Regression menggunakan default parameter boolean terbaik untuk datanya dengan memberikan error MAE sebesar : 0.0034310297676294938 dengan\n",
    "akurasi menggunakan R2 Score (Coefficient Determination) sebesar : 0.9994044067327629, dari 2 metrik ini mengindikasikan bahwa hasil prediksi dari \n",
    "Linear Regresion lebih akurat dibandingkan dari LSTM dan SVR."
   ]
  },
  {
   "cell_type": "markdown",
   "metadata": {
    "id": "gRglUkttwVI1"
   },
   "source": [
    "## Support Vector Regression (SVR)"
   ]
  },
  {
   "cell_type": "markdown",
   "metadata": {
    "id": "LQ78JfxbBDHL"
   },
   "source": [
    "Membuat model Support Vector Regression dimana mekanisme dari SVR ini yaitu dengan mencari garis fit terbaik atau sebuah hyperplane yang dianggap\n",
    "paling optimal dalam memprediksi nilai-nilai dari data kontinu dengan memetakan data yang terurut dengan pemisahan data berdasarkan\n",
    "margin (hyperplane) terbaik."
   ]
  },
  {
   "cell_type": "code",
   "execution_count": null,
   "metadata": {
    "colab": {
     "base_uri": "https://localhost:8080/"
    },
    "id": "Qfrvzx57r0dk",
    "outputId": "3623c739-1ef8-4617-f104-83275c623ec8"
   },
   "outputs": [
    {
     "name": "stderr",
     "output_type": "stream",
     "text": [
      "/usr/local/lib/python3.7/dist-packages/sklearn/utils/validation.py:760: DataConversionWarning: A column-vector y was passed when a 1d array was expected. Please change the shape of y to (n_samples, ), for example using ravel().\n",
      "  y = column_or_1d(y, warn=True)\n"
     ]
    }
   ],
   "source": [
    "#Buat model Support Vector Regressor (SVR)\n",
    "model_svr = SVR(C = 0.5, kernel = 'linear', degree = 10, coef0=1,tol=1e-3,cache_size=4096,gamma=0.7)\n",
    "#Train model SVR\n",
    "model_svr.fit(X_train, y_train)\n",
    "#Prediksi menggunakan data uji\n",
    "y_pred_svr = model_svr.predict(X_test)"
   ]
  },
  {
   "cell_type": "markdown",
   "metadata": {
    "id": "dgr7LCXsBVJ5"
   },
   "source": [
    "Menghitung performa dari model Support Vector Reggresion"
   ]
  },
  {
   "cell_type": "code",
   "execution_count": null,
   "metadata": {
    "colab": {
     "base_uri": "https://localhost:8080/"
    },
    "id": "1cqCW6OTvRC1",
    "outputId": "cab1f86e-b72f-4533-fbab-5b0d74ddb56b"
   },
   "outputs": [
    {
     "name": "stdout",
     "output_type": "stream",
     "text": [
      "R2 score (Coefficient of Determination): 0.9237742811000287\n",
      "MAE : 0.07784264473570811\n"
     ]
    }
   ],
   "source": [
    "# Hitung performa akurasi dari model\n",
    "print('R2 score (Coefficient of Determination):',r2_score(y_test,y_pred_svr))\n",
    "# Hitung error dari model menggunakan mean absolute error (mae)\n",
    "print(\"MAE :\",mean_absolute_error(y_test,y_pred_svr))"
   ]
  },
  {
   "cell_type": "markdown",
   "metadata": {},
   "source": [
    "SVR berada ada posisi ketiga dalam perbandingan ini dengan nilai MAE : 0.07784264473570811 serta akurasi R2 Score (Coefficient Determination) sebesar : 0.9237742811000287, dengan nilai seperti ini sebenarnya dalam analisis hasil prediksi tersebut, performa SVR juga sudah dianggap sangat bagus, tapi dalam pemahaman business yang mana membutuhkan hasil yang sebisa mungkin sangat dekat nilai prediksinya dengan tren asli di masa depan untuk mendapatkan keuntungan\n",
    "yang maksimum dalam penjualan saham. Model ini juga sebelumnya memiliki performa yang rendah sebelum melalui proses hyperparameter tuning, tetapi setelah\n",
    "dilakukan tuning tersebut menggunakan parameter berikut :\n",
    "- C = 0.5 \n",
    "- kernel = 'linear'\n",
    "- degree = 10 \n",
    "- coef0=1 \n",
    "- tol=1e-3\n",
    "- cache_size=4096\n",
    "- gamma=0.7\n",
    "Nilai parameter inilah yang cukup tepat untuk meningkatkan performa dari model SVR khusus untuk menangani data yang dipakai untuk melatih dan mengujinya \n",
    "sehingga bisa memperoleh hasil dari nilai error dan akurasi yang telah disebutkan diatas."
   ]
  },
  {
   "cell_type": "markdown",
   "metadata": {},
   "source": [
    "## Conclusion\n",
    "\n",
    "Dari hasil metrik evaluasi yang sesuai untuk mengevaluasi konteks data kita yang kontinu serta menjawab performa dari problem statement kita untuk melatih model machine learning dalam melakukan regresi dan angka tersebut juga telah menjawab solusi yang kita butuhkan yaitu model yang cocok dalam melakukan prediksi harga saham tesla (TSLA) tersebut, dan kesimpulannya kita menemukan bahwa Linear Regression lebih cocok dalam kasus ini."
   ]
  },
  {
   "cell_type": "code",
   "execution_count": null,
   "metadata": {},
   "outputs": [],
   "source": []
  }
 ],
 "metadata": {
  "colab": {
   "collapsed_sections": [],
   "name": "ProyekPredictiveAnalyticsRev1_KarlinaSuryaWitanto.ipynb",
   "provenance": []
  },
  "kernelspec": {
   "display_name": "Python 3",
   "language": "python",
   "name": "python3"
  },
  "language_info": {
   "codemirror_mode": {
    "name": "ipython",
    "version": 3
   },
   "file_extension": ".py",
   "mimetype": "text/x-python",
   "name": "python",
   "nbconvert_exporter": "python",
   "pygments_lexer": "ipython3",
   "version": "3.8.10"
  }
 },
 "nbformat": 4,
 "nbformat_minor": 1
}
